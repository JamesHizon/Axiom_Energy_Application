{
 "cells": [
  {
   "cell_type": "markdown",
   "metadata": {},
   "source": [
    "# Axiom Energy Application"
   ]
  },
  {
   "cell_type": "markdown",
   "metadata": {},
   "source": [
    "### Would you like to see your work have a physical impact on our planet? \n",
    "### Do you want to build cloud software that will command thousands of \n",
    "### commercial and industrial clean energy systems in the field?\n",
    "### We're looking for candidates who are ready to get their hands dirty, \n",
    "### are as passionate about Industrial IoT and energy storage as we are, \n",
    "### and have the drive required to bring new energy management systems to market!\n",
    "### What Youll Do As Jr. Software Engineer, youll be developing the cloud and IoT software \n",
    "### for the Axiom Cloud,\n",
    "### which turns supermarket refrigeration systems and our Refrigeration Battery hardware\n",
    "### into intelligent energy management services. \n",
    "### Youll contribute to cutting-edge physical modeling, machine learning, and energy management algorithms.\n",
    "### Youll then build applications that will bring those algorithms to life, \n",
    "### thereby having a real-world effect on our customers energy savings\n",
    "### as well as promoting responsible energy management to combat climate change - all at enterprise scale.\n",
    "\n",
    "### You will work directly with the CTO, the Lead Cloud IoT Engineer, \n",
    "### and the software team on the following strategic initiatives:\n",
    "### Build software services from the IoT edge to the cloud to improve energy savings. \n",
    "### Design a cutting-edge modern software platform, cloud services, and APIs. \n",
    "### Engineer reliability and scale into our software, \n",
    "### moving us from handfuls to thousands of customer sites (blue/green development, staging environments, etc). \n",
    "### Closely collaborate with hardware, controls, modeling, and data science team members\n",
    "### to solve real-world engineering challenges. \n",
    "### Build a web-based analysis platform for generating actionable reports on our systems performance. \n",
    "### Generate metrics to drive beautiful and intuitive displays of energy savings data in our web apps. \n",
    "### Work closely with senior software engineers for mentorship, guidance, and growth.\n",
    "### Who You Are(a general guide - we can bend these rules for an incredible candidate!) \n",
    "\n",
    "### Bachelors in computer science, engineering, or similar discipline. \n",
    "### 0-2 years developing professional-grade software \n",
    "### (via professional experiences, personal projects, coding communities, etc). \n",
    "### Excellent software design instinct; object orientation should be core to your thinking. \n",
    "\n",
    "### Interested in learning and contributing to a wide variety of software projects, \n",
    "### including web backend, IoT Edge, creative data analysis, \n",
    "### and control using machine learning algorithms. \n",
    "### Excited about writing excellent code and applying software best practices. \n",
    "### Able to learn new technologies and development methodologies rapidly. \n",
    "### An enthusiastic self-starter who can work with minimal supervision\n",
    "### and generates innovative solutions to tough problems. \n",
    "### Passionate about technology innovation, product development, industrial IoT, and energy storage.\n",
    "\n",
    "### Key skills/technologies: \n",
    "#####  - Python 3.x Linux / bash git / GitHub\n",
    "### Nice to have skills/technologies: \n",
    "##### -  TDD frameworks (nosetests, pytest, unittest, etc) \n",
    "##### -  Deployment workflows: CI/CD Agile software development (we use Scrum) \n",
    "##### - Data processing, modeling, and analytics tools (Pandas, Numpy, SciPy, Matplotlib, Grafana 5+, Jupyter notebooks) \n",
    "##### - Docker (containers, compose, orchestration, etc.) \n",
    "##### - Kubernetes Web service software development; \n",
    "##### - profiling & refactoring (Python) Databases: Timeseries (influxdb), noSQL (mongodb), object storage\n",
    "### Bonus skills/technologies: \n",
    "##### - Experience with AWS IoT frameworks REST API design and documentation Graph databases / GraphQL\n",
    "### What You Get Compensation in competitive base salary and equity. \n",
    "### Honor system PTO policy (no specified limits), flexible work schedule, flexible maternity/paternity leave. \n",
    "### Subsidized group healthcare (estimated 4,000/year salary equivalent). No-fees 401k. \n",
    "### Expensed working lunches and dinners (estimated 5,000/year salary equivalent). \n",
    "### Commuter plan (pay for qualified commuting expenses with pre-tax dollars). \n",
    "### Snacks and drinks on tap - suggestions welcome! \n",
    "### Numerous social activities including team happy hours, barbecues, holiday parties, \n",
    "### and an annual Halloween costume competition. \n",
    "### Access to the Richmond/SF Ferry, Bay trail, waterfront, gym, and EV chargers within walking distance.\n",
    "### The Fine Print:\n",
    "##### - We're a startup. \n",
    "### The work is demanding, but we'll make every effort to find an arrangement that works. \n",
    "### Occasional on-call rotation (can be done at HQ or remotely)."
   ]
  },
  {
   "cell_type": "code",
   "execution_count": 2,
   "metadata": {},
   "outputs": [],
   "source": [
    "################################# SEPARATOR FOR BONUS QUESTIONS ##################################################"
   ]
  },
  {
   "cell_type": "markdown",
   "metadata": {},
   "source": [
    "# Bonus Questions:\n",
    "### - Please answer any or all of the following questions in Python (3.5+).\n",
    "### - You can upload a file in the \"cover letter\" upload section (the cover letter itself is optional). Thanks!"
   ]
  },
  {
   "cell_type": "code",
   "execution_count": 4,
   "metadata": {},
   "outputs": [],
   "source": [
    "################################# BEGIN BONUS QUESTIONS ##########################################################"
   ]
  },
  {
   "cell_type": "markdown",
   "metadata": {},
   "source": [
    "# 1) Given a string representing a Roman numeral:\n",
    "### - Write a function to compute the Arabic numerical equivalent. \n",
    "### Example: \n",
    "##### roman_to_arabic(\"MDCCLXXVI\") should return 1776."
   ]
  },
  {
   "cell_type": "code",
   "execution_count": 5,
   "metadata": {},
   "outputs": [
    {
     "ename": "SyntaxError",
     "evalue": "invalid syntax (<ipython-input-5-35793c0144bf>, line 39)",
     "output_type": "error",
     "traceback": [
      "\u001b[0;36m  File \u001b[0;32m\"<ipython-input-5-35793c0144bf>\"\u001b[0;36m, line \u001b[0;32m39\u001b[0m\n\u001b[0;31m    if pattern in roman_numeral\u001b[0m\n\u001b[0m                               ^\u001b[0m\n\u001b[0;31mSyntaxError\u001b[0m\u001b[0;31m:\u001b[0m invalid syntax\n"
     ]
    }
   ],
   "source": [
    "### Create function:\n",
    "\n",
    "def roman_to_arabic(roman_numeral):\n",
    "    \n",
    "    # Initialize arabic number\n",
    "    arabic_number = 0\n",
    "    # Iterate through string:\n",
    "    # THINK: DO WE WANT TO CONVERT OUR STRING TO A LIST OF STRINGS?\n",
    "    \n",
    "    \"\"\"\n",
    "    Note patterns first:\n",
    "    - Try to sort through list in order to find the patterns.\n",
    "    - Based on the pattern, we will add values to arabic_number\n",
    "    and then remove this pattern from our list.\n",
    "    \"\"\"\n",
    "    \n",
    "    # Deal with 3-character roman numerals:\n",
    "    mmm = \"mmm\"\n",
    "    MMM = \"MMM\"\n",
    "    dcc = \"dcc\"\n",
    "    DCC = \"DCC\"\n",
    "    xx = \"xx\"\n",
    "    XX = \"XX\"\n",
    "    iv = \"iv\"\n",
    "    IV = \"IV\"\n",
    "    \n",
    "    \n",
    "    # DON'T USE B/C We have different cases:\n",
    "    # Create list of 3-character roman numerals:\n",
    "    three_char_list = list(mmm, MMM, dcc, DCC, xx, XX, iv, IV)\n",
    "#     for pattern in three_char_list:\n",
    "#         if pattern in roman_numeral:\n",
    "#             arabic_number\n",
    "\n",
    "    # Create nested \"if-then\" statement:\n",
    "    ### OR, DO WE USE FOR LOOP?\n",
    "    \n",
    "    for pattern in three_char_list:\n",
    "        if pattern in roman_numeral\n",
    "    \n",
    "    for mmm in roman_numeral or MMM in roman_numeral:\n",
    "        arabic_number += 300\n",
    "        roman_numeral.replace(mmm, '')\n",
    "        roman_numeral.replace(MMM, '')\n",
    "    for dcc in roman_numeral or DCC in roman_numeral:\n",
    "        arabic_number += 700\n",
    "    for xx in roman_numeral or XX in roman_numeral:\n",
    "        arabic_number += 20\n",
    "    elif iv in roman_numeral or IV in roman_numeral:\n",
    "        arabic_number += 4\n",
    "    \n",
    "    \n",
    "    \n",
    "    for string in roman_numeral:\n",
    "        print(string)\n",
    "    \n",
    "        # Use nest if-then statements (change to string)\n",
    "        # and use within for loop:\n",
    "        # QUESTION:\n",
    "        # - Does this work with all combinations of roman_numerals?\n",
    "        \n",
    "        if roman_numeral == 'I' or roman_numeral == 'i':\n",
    "            arabic_number += 1\n",
    "        elif roman_numeral == 'V' or roman_numeral == 'v':\n",
    "            arabic_number += 5\n",
    "        elif roman_numeral == 'X' or roman_numeral == 'x':\n",
    "            arabic_number += 10\n",
    "        elif roman_numeral == 'L' or roman_numeral == 'l':\n",
    "            arabic_number += 50\n",
    "        elif roman_numeral == 'C' or roman_numeral == 'c':\n",
    "            arabic_number += 100\n",
    "        elif roman_numeral == 'D' or roman_numeral == 'd':\n",
    "            arabic_number += 500\n",
    "        elif roman_numeral == 'M' or roman_numeral == 'M':\n",
    "            arabic_number += 1000\n",
    "        elif roman_numeral == '_I' or roman_numeral == '_i':\n",
    "            arabic_number += 1000\n",
    "        elif roman_numeral == '_V' or roman_numeral == '_v':\n",
    "            arabic_number += 5000\n",
    "        elif roman_numeral == '_X' or roman_numeral == '_x':\n",
    "            arabic_number += 10000\n",
    "        elif roman_numeral == '_L' or roman_numeral == '_l':\n",
    "            arabic_number += 50000\n",
    "        elif roman_numeral == '_C' or roman_numeral == '_c':\n",
    "            arabic_number += 100000\n",
    "        elif roman_numeral == '_D' or roman_numeral == '_d':\n",
    "            arabic_number += 500000\n",
    "        elif roman_numeral == '_M' or roman_numeral == '_m':\n",
    "            arabic_number += 1000000\n",
    "        \n",
    "    "
   ]
  },
  {
   "cell_type": "code",
   "execution_count": 12,
   "metadata": {},
   "outputs": [
    {
     "name": "stdout",
     "output_type": "stream",
     "text": [
      "I\n",
      "XX\n",
      "I\n",
      "XX\n",
      "I\n",
      "XX\n",
      "I\n",
      "XX\n",
      "I\n",
      "XX\n",
      "I\n",
      "XX\n",
      "I\n",
      "XX\n",
      "I\n",
      "XX\n",
      "I\n",
      "XX\n",
      "MCDLLXXVI\n"
     ]
    }
   ],
   "source": [
    "### Test:\n",
    "\n",
    "roman_numeral = \"MCDLLXXVI\"\n",
    "arabic_number = 0\n",
    "\n",
    "x = \"xx\"\n",
    "X = \"XX\" \n",
    "\n",
    "for x in roman_numeral or X in roman_numeral:\n",
    "    print(xx)\n",
    "    print(XX)\n",
    "    arabic_number += 300\n",
    "    roman_numeral.replace(x, '')\n",
    "    roman_numeral.replace(X, '')\n",
    "print(roman_numeral)"
   ]
  },
  {
   "cell_type": "markdown",
   "metadata": {},
   "source": [
    "### Try: \n",
    "##### filter()"
   ]
  },
  {
   "cell_type": "code",
   "execution_count": 35,
   "metadata": {},
   "outputs": [],
   "source": [
    "roman_numeral = \"MCDLLXXVI\"\n",
    "\n",
    "xx = \"xx\"\n",
    "XX = \"XX\" \n",
    "\n",
    "find_pattern = ''.join(filter(lambda x: x not in 'XX', roman_numeral))"
   ]
  },
  {
   "cell_type": "code",
   "execution_count": 36,
   "metadata": {},
   "outputs": [
    {
     "name": "stdout",
     "output_type": "stream",
     "text": [
      "Filtered pattern :  MCDLLVI\n"
     ]
    }
   ],
   "source": [
    "print('Filtered pattern : ', find_pattern)"
   ]
  },
  {
   "cell_type": "markdown",
   "metadata": {},
   "source": [
    "### So, the \"filter()\" function works \n",
    "### for locating patterns within a string."
   ]
  },
  {
   "cell_type": "code",
   "execution_count": 38,
   "metadata": {},
   "outputs": [
    {
     "name": "stdout",
     "output_type": "stream",
     "text": [
      "String after pattern is removed :  MCDLLXXVI\n",
      "String after pattern is removed :  CDLLXXVI\n",
      "String after pattern is removed :  MCDLLXXVI\n",
      "String after pattern is removed :  MLLXXVI\n",
      "String after pattern is removed :  MCDLLXXVI\n",
      "String after pattern is removed :  MCDLLVI\n",
      "String after pattern is removed :  MCDLLXXVI\n",
      "String after pattern is removed :  MCDLLXX\n"
     ]
    }
   ],
   "source": [
    "roman_numeral = \"MCDLLXXVI\"\n",
    "\n",
    "# Initialize arabic_number:\n",
    "arabic_number = 0\n",
    "\n",
    "# Deal with 3-character roman numerals:\n",
    "mmm = \"mmm\"\n",
    "MMM = \"MMM\"\n",
    "dcc = \"dcc\"\n",
    "DCC = \"DCC\"\n",
    "xx = \"xx\"\n",
    "XX = \"XX\"\n",
    "iv = \"iv\"\n",
    "IV = \"IV\"\n",
    "\n",
    "# Create list of 3-character roman numerals:\n",
    "three_char_list = [mmm, MMM, dcc, DCC, xx, XX, iv, IV]\n",
    "\n",
    "# Filter for patterns in three_char_list first\n",
    "for pattern in three_char_list:\n",
    "    # \"If-then\" for each pattern:\n",
    "    if pattern == mmm or pattern == MMM:\n",
    "        arabic_number += \n",
    "        \n",
    "        for mmm in roman_numeral or MMM in roman_numeral:\n",
    "        arabic_number += 300\n",
    "        roman_numeral.replace(mmm, '')\n",
    "        roman_numeral.replace(MMM, '')\n",
    "    for dcc in roman_numeral or DCC in roman_numeral:\n",
    "        arabic_number += 700\n",
    "    for xx in roman_numeral or XX in roman_numeral:\n",
    "        arabic_number += 20\n",
    "    elif iv in roman_numeral or IV in roman_numeral:\n",
    "        arabic_number += 4\n",
    "    \n",
    "    find_pattern = ''.join(filter(lambda x: x not in pattern, roman_numeral))\n",
    "    print('String after pattern is removed : ', find_pattern)"
   ]
  },
  {
   "cell_type": "code",
   "execution_count": null,
   "metadata": {},
   "outputs": [],
   "source": [
    "# Create list of 3-character roman numerals:\n",
    "three_char_list = [mmm, MMM, dcc, DCC, xx, XX, iv, IV]\n",
    "\n",
    "# Filter for patterns in three_char_list first\n",
    "for pattern in three_char_list:\n",
    "    # \"If-then\" for each pattern:\n",
    "    if pattern == mmm or pattern == MMM:\n",
    "        arabic_number += \n",
    "        \n",
    "    for mmm in roman_numeral or MMM in roman_numeral:\n",
    "        arabic_number += 300\n",
    "        roman_numeral.replace(mmm, '')\n",
    "        roman_numeral.replace(MMM, '')\n",
    "    for dcc in roman_numeral or DCC in roman_numeral:\n",
    "        arabic_number += 700\n",
    "    for xx in roman_numeral or XX in roman_numeral:\n",
    "        arabic_number += 20\n",
    "    elif iv in roman_numeral or IV in roman_numeral:\n",
    "        arabic_number += 4\n",
    "    \n",
    "    find_pattern = ''.join(filter(lambda x: x not in pattern, roman_numeral))\n",
    "    print('String after pattern is removed : ', find_pattern)"
   ]
  },
  {
   "cell_type": "markdown",
   "metadata": {},
   "source": [
    "### RESET ATTEMPT AT PROBLEM:\n",
    "### Note:\n",
    "##### - This is a regex problem!"
   ]
  },
  {
   "cell_type": "markdown",
   "metadata": {},
   "source": [
    "### More Notes:\n",
    "##### - A number in Roman Numerals is a string of these symbols written in descending order.\n",
    "##### -  In a few specific cases, to avoid four characters being repeated in succession,\n",
    "##### (such as IIII or XXXX), subtractive notation is often used as follows:"
   ]
  },
  {
   "cell_type": "markdown",
   "metadata": {},
   "source": [
    "##### - \"I\" placed before \"V\" or \"X\" indicates one less,\n",
    "##### so four is \"IV\" (one less than 5) and \n",
    "##### 9 is \"IX\" (one less than 10).\n",
    "##### - \"X\" is placed before \"L\" or \"C\" indicates ten less,\n",
    "##### so forty is \"XL\" (10 less than 50) and 90 is \"XC\"\n",
    "##### (ten less than a hundred).\n",
    "##### \"C\" placed before \"D\" or \"M\" indicates a hundred less,\n",
    "##### so four hundred is \"CD\" (a hundred less than five hundred) and\n",
    "##### nine hundred is \"CM\" (a hundred less than a thousand)."
   ]
  },
  {
   "cell_type": "code",
   "execution_count": 55,
   "metadata": {},
   "outputs": [],
   "source": [
    "### Wrong Approach:\n",
    "##### - The regular expression used to check if a string is \"Valid Roman Numeral\"\n",
    "##### or not is this:\n",
    "##### ^M{0,3}(CM|CD|D?C{0,3})(XC|XL|L?X{0,3})(IX|IV|V?I{0,3})$"
   ]
  },
  {
   "cell_type": "code",
   "execution_count": 56,
   "metadata": {},
   "outputs": [],
   "source": [
    "### Wrong Approach:\n",
    "### In which:\n",
    "##### 1) \"M{0,4}\" - Specified the thousands section and basically\n",
    "##### restrains it to between 0 and 4000.\n",
    "##### 2) \"(CM|CD|D?C{0,3})\" - is for the hundreds section.\n",
    "##### 3) \"(XC|XL|L?X{0,3})\" - is for the tens place.\n",
    "##### 4) \"(IX|IV|V?I{0,3})\" - is for the units place."
   ]
  },
  {
   "cell_type": "markdown",
   "metadata": {},
   "source": [
    "### Import the regular expression and search the input string in\n",
    "### the input string in the expression if the string returns \"True\"\n",
    "### else return \"False\"."
   ]
  },
  {
   "cell_type": "code",
   "execution_count": 57,
   "metadata": {},
   "outputs": [],
   "source": [
    "import re"
   ]
  },
  {
   "cell_type": "code",
   "execution_count": 58,
   "metadata": {},
   "outputs": [],
   "source": [
    "### CORRECT APPROACH:\n",
    "### StackOverflow Solution:\n",
    "roman_numeral_dict = {'I' : 1, 'V' : 5, 'X' : 10, 'L' : 50,\n",
    "         'C' : 100, 'D' : 500, 'M' : 1000,\n",
    "         'IV' : 4, 'IX' :9, 'XL' : 40, 'XC' : 90,\n",
    "         'CD': 400, 'CM' : 900}\n",
    "\n",
    "def roman_to_arabic(numerals):\n",
    "    \n",
    "    # total variable used/initialized for arabic number\n",
    "    arabic_number = 0\n",
    "    \"\"\"\n",
    "    re.compile():\n",
    "    - Used to combine regular expression pattern into\n",
    "    pattern objects, which can be used for pattern matching.\n",
    "    - It also helps to search a pattern again without rewriting it.\n",
    "    \"\"\"\n",
    "    # Special characters \n",
    "    specials = re.compile('IV|IX|XL|XC|CD|CM')\n",
    "    # For all sepcial numbers within string, search within roman_numeral_dict\n",
    "    # for specified value.\n",
    "    for special in specials.findall(numerals): \n",
    "        arabic_number += roman_numeral_dict[special] # Add number from dict\n",
    "        numerals = numerals.replace(special, '', 1) # Remove value from input string\n",
    "    return arabic_number + sum(roman_numeral_dict[n] for n in numerals) # Add remaining values using sum()"
   ]
  },
  {
   "cell_type": "code",
   "execution_count": 65,
   "metadata": {},
   "outputs": [
    {
     "data": {
      "text/plain": [
       "1776"
      ]
     },
     "execution_count": 65,
     "metadata": {},
     "output_type": "execute_result"
    }
   ],
   "source": [
    "### Test function:\n",
    "\n",
    "roman_to_arabic(\"MDCCLXXVI\")"
   ]
  },
  {
   "cell_type": "code",
   "execution_count": null,
   "metadata": {},
   "outputs": [],
   "source": [
    "### Test works!\n",
    "\n",
    "# Insert within test function.\n",
    "def test_roman_arabic_convert(self):\n",
    "    \n",
    "    test_MDCCLXXVI = roman_to_arabic(\"MDCCLXXVI\")\n",
    "    self.assertEqual(\"MDCCLXXVI\", 1776)\n",
    "    print(\"MDCCLXXVI has been properly converted into : \" + str(test_MDCCLXXVI))"
   ]
  },
  {
   "cell_type": "markdown",
   "metadata": {},
   "source": [
    "# 2) Write a generic function:\n",
    "### - Compute various scenarios for the following optimization problem: \n",
    "###     A farmer owns X acres of land. \n",
    "###    She profits P1 dollars per acre of corn and P2 dollars per acre of oats. \n",
    "###    Her team has Y hours of labor available. \n",
    "###    The corn takes H1 hours of labor per acre and oats require H2 hours of labor per acre. \n",
    "### Q: How many acres of each can be planted to maximize profits?\n",
    "### Test the function for the following cases:\n",
    "##### a) X = 240, Y = 320, P1 = $40, P2 = $30, H1 = 2, H2 = 1\n",
    "##### b) X = 300, Y = 380, P1 = $70, P2 = $45, H1 = 3, H2 = 1\n",
    "##### c) X = 180, Y = 420, P1 = $65, P2 = $55, H1 = 3, H2 = 2 "
   ]
  },
  {
   "cell_type": "markdown",
   "metadata": {},
   "source": [
    "### Profit Max Optimization Problem:"
   ]
  },
  {
   "cell_type": "code",
   "execution_count": 2,
   "metadata": {},
   "outputs": [],
   "source": [
    "### Import \"pulp\" package:\n",
    "# import scipy\n",
    "import pulp as p"
   ]
  },
  {
   "cell_type": "code",
   "execution_count": 60,
   "metadata": {},
   "outputs": [],
   "source": [
    "### Profit Max Function using \"pulp\" package.\n",
    "# NOTE:\n",
    "# - \"pulp\" needs to be installed first. Once my internet connection is up again,\n",
    "# I will be able to incorporate the solution.\n",
    "\n",
    "def profit_max(X, Y, P1, P2, H1, H2):\n",
    "    \n",
    "    \"\"\"\n",
    "    Using pulp package,\n",
    "    we will be able to calculate maximum profit based on:\n",
    "     - Objective function\n",
    "     - Constraints\n",
    "    \"\"\"\n",
    "    \n",
    "    # Create a LP Max problem \n",
    "    Lp_prob = p.LpProblem('Profit Max Problem', p.LpMaximize)  \n",
    "\n",
    "    # Create problem Variables  \n",
    "    X1 = p.LpVariable(\"X1\", lowBound = 0)   # Create a variable x >= 0 \n",
    "    X2 = p.LpVariable(\"X2\", lowBound = 0)   # Create a variable y >= 0 \n",
    "\n",
    "    # Objective Function \n",
    "    Lp_prob += P1 * X1 + P2 * X2, 'Objective Function'    \n",
    "    Lp_prob += X1 + X2 <= X, 'Acres of Land Constraint'\n",
    "    Lp_prob += H1*X1 + H2*X2 <= Y, 'Hours Worked Constraint'\n",
    "\n",
    "    # # Constraints: \n",
    "    # Lp_prob += 2 * x + 3 * y >= 12\n",
    "    # Lp_prob += -x + y <= 3\n",
    "    # Lp_prob += x >= 4\n",
    "    # Lp_prob += y <= 3\n",
    "\n",
    "\n",
    "    # Display the problem \n",
    "    print(Lp_prob) \n",
    "    status = Lp_prob.solve()   # Solver \n",
    "    print(p.LpStatus[status])   # The solution status \n",
    "    \n",
    "    # Write string for values:\n",
    "    print(str(p.value(X1)) + ' acres of corn should be planted to maximize profits.')\n",
    "    print(str(p.value(X2)) + ' acres of oats should be planted to maximize profits.')\n",
    "    print('Maximum Profit Available: $' + str( \"{:.2f}\".format(p.value(Lp_prob.objective))))\n",
    "    \n",
    "    # Return values if needed for further data manipulation:\n",
    "    return p.value(X1), p.value(X2), p.value(Lp_prob.objective)"
   ]
  },
  {
   "cell_type": "code",
   "execution_count": 36,
   "metadata": {},
   "outputs": [],
   "source": [
    "### Test:\n",
    "\n",
    "# X = 240, Y = 320, P1 =  40,𝑃2= 30, H1 = 2, H2 = 1\n",
    "# Create Max Profit function while adding equations with pulp:\n",
    "# profit = pulp.LpVariable('Maximum Profit', pulp.LpMaximize)\n",
    "\n",
    "# # Create Variables (X1 = Acres of Corn, X2 = Acres of Oats):\n",
    "# X1 = pulp.LpVariable('X1')\n",
    "# X2 = pulp.LpVariable('X2')\n",
    "\n",
    "\n",
    "# profit += P1*X1 + P2*X2, 'Objective Function'\n",
    "# profit += X1 + X2 <= X, 'Acres of Land Constraint'\n",
    "# profit += H1 + H2 <= Y, 'Hours Worked Constraint'\n",
    "\n",
    "# # Solve optimization problem:\n",
    "# profit.solve()\n",
    "\n",
    "# profit_max(X = 240, Y = 320, P1 =  40, 𝑃2= 30, H1 = 2, H2 = 1)"
   ]
  },
  {
   "cell_type": "code",
   "execution_count": 34,
   "metadata": {},
   "outputs": [],
   "source": [
    "# # Create Max Profit function while adding equations with pulp:\n",
    "# profit = pulp.LpVariable('Maximum Profit', pulp.LpMaximize)\n",
    "\n",
    "# # Create Variables (X1 = Acres of Corn, X2 = Acres of Oats):\n",
    "# X1 = pulp.LpVariable('X1', lowBound = 0)\n",
    "# X2 = pulp.LpVariable('X2', lowBound = 0)\n",
    "\n",
    "\n",
    "# # Q: What is wrong with my 'Objective Function'?\n",
    "# # - My objective function is not enough.\n",
    "# # - 40 * X1\n",
    "\n",
    "# profit += (40*X1) + (30*X2), 'Objective Function'\n",
    "# profit += X1 + X2 <= 240, 'Acres of Land Constraint'\n",
    "# profit += 2*X1 + 1*X2 <= 320, 'Hours Worked Constraint'\n",
    "\n",
    "# # Solve optimization problem:\n",
    "# profit.solve()\n",
    "\n",
    "# # profit_max(X = 240, Y = 320, P1 =  40, 𝑃2= 30, H1 = 2, H2 = 1)"
   ]
  },
  {
   "cell_type": "code",
   "execution_count": 35,
   "metadata": {},
   "outputs": [],
   "source": [
    "### ERROR:\n",
    "\n",
    "# - Not working.\n",
    "\n",
    "### TRY:\n",
    "\n",
    "# # import the library pulp as p \n",
    "# import pulp as p \n",
    "  \n",
    "# # Create a LP Max problem \n",
    "# Lp_prob = p.LpProblem('Problem', p.LpMaximize)  \n",
    "  \n",
    "# # Create problem Variables  \n",
    "# X1 = p.LpVariable(\"X1\", lowBound = 0)   # Create a variable x >= 0 \n",
    "# X2 = p.LpVariable(\"X2\", lowBound = 0)   # Create a variable y >= 0 \n",
    "\n",
    "# # Objective Function \n",
    "# Lp_prob += 40 * X1 + 30 * X2, 'Objective Function'    \n",
    "# Lp_prob += X1 + X2 <= X, 'Acres of Land Constraint'\n",
    "# Lp_prob += 2*X1 + 1*X2 <= Y, 'Hours Worked Constraint'\n",
    "\n",
    "# # # Constraints: \n",
    "# # Lp_prob += 2 * x + 3 * y >= 12\n",
    "# # Lp_prob += -x + y <= 3\n",
    "# # Lp_prob += x >= 4\n",
    "# # Lp_prob += y <= 3\n",
    "\n",
    "  \n",
    "# # Display the problem \n",
    "# print(Lp_prob) \n",
    "  \n",
    "# status = Lp_prob.solve()   # Solver \n",
    "# print(p.LpStatus[status])   # The solution status \n",
    "  \n",
    "# # Printing the final solution \n",
    "# print(p.value(X1), p.value(X2), p.value(Lp_prob.objective))   "
   ]
  },
  {
   "cell_type": "code",
   "execution_count": 61,
   "metadata": {},
   "outputs": [
    {
     "name": "stdout",
     "output_type": "stream",
     "text": [
      "Profit_Max_Problem:\n",
      "MAXIMIZE\n",
      "40*X1 + 30*X2 + 0\n",
      "SUBJECT TO\n",
      "Acres_of_Land_Constraint: X1 + X2 <= 240\n",
      "\n",
      "Hours_Worked_Constraint: 2 X1 + X2 <= 320\n",
      "\n",
      "VARIABLES\n",
      "X1 Continuous\n",
      "X2 Continuous\n",
      "\n",
      "Optimal\n",
      "80.0 acres of corn should be planted to maximize profits.\n",
      "160.0 acres of oats should be planted to maximize profits.\n",
      "Maximum Profit Available: $8000.00\n"
     ]
    },
    {
     "name": "stderr",
     "output_type": "stream",
     "text": [
      "/home/james/anaconda3/lib/python3.7/site-packages/pulp/pulp.py:1195: UserWarning: Spaces are not permitted in the name. Converted to '_'\n",
      "  warnings.warn(\"Spaces are not permitted in the name. Converted to '_'\")\n"
     ]
    },
    {
     "data": {
      "text/plain": [
       "(80.0, 160.0, 8000.0)"
      ]
     },
     "execution_count": 61,
     "metadata": {},
     "output_type": "execute_result"
    }
   ],
   "source": [
    "### One more time:\n",
    "\n",
    "profit_max(X = 240, Y = 320, P1 =  40, 𝑃2= 30, H1 = 2, H2 = 1)"
   ]
  },
  {
   "cell_type": "code",
   "execution_count": 64,
   "metadata": {},
   "outputs": [
    {
     "name": "stdout",
     "output_type": "stream",
     "text": [
      "Profit_Max_Problem:\n",
      "MAXIMIZE\n",
      "70*X1 + 45*X2 + 0\n",
      "SUBJECT TO\n",
      "Acres_of_Land_Constraint: X1 + X2 <= 300\n",
      "\n",
      "Hours_Worked_Constraint: 3 X1 + X2 <= 380\n",
      "\n",
      "VARIABLES\n",
      "X1 Continuous\n",
      "X2 Continuous\n",
      "\n",
      "Optimal\n",
      "40.0 acres of corn should be planted to maximize profits.\n",
      "260.0 acres of oats should be planted to maximize profits.\n",
      "Maximum Profit Available: $14500.00\n"
     ]
    },
    {
     "data": {
      "text/plain": [
       "(40.0, 260.0, 14500.0)"
      ]
     },
     "execution_count": 64,
     "metadata": {},
     "output_type": "execute_result"
    }
   ],
   "source": [
    "### Test 2 ( Part b ):\n",
    "\n",
    "profit_max(X = 300, Y = 380, P1 =  70,𝑃2= 45, H1 = 3, H2 = 1)"
   ]
  },
  {
   "cell_type": "code",
   "execution_count": 63,
   "metadata": {},
   "outputs": [
    {
     "name": "stdout",
     "output_type": "stream",
     "text": [
      "Profit_Max_Problem:\n",
      "MAXIMIZE\n",
      "65*X1 + 55*X2 + 0\n",
      "SUBJECT TO\n",
      "Acres_of_Land_Constraint: X1 + X2 <= 180\n",
      "\n",
      "Hours_Worked_Constraint: 3 X1 + 2 X2 <= 420\n",
      "\n",
      "VARIABLES\n",
      "X1 Continuous\n",
      "X2 Continuous\n",
      "\n",
      "Optimal\n",
      "60.0 acres of corn should be planted to maximize profits.\n",
      "120.0 acres of oats should be planted to maximize profits.\n",
      "Maximum Profit Available: $10500.00\n"
     ]
    },
    {
     "data": {
      "text/plain": [
       "(60.0, 120.0, 10500.0)"
      ]
     },
     "execution_count": 63,
     "metadata": {},
     "output_type": "execute_result"
    }
   ],
   "source": [
    "### Test 3 ( Part c ):\n",
    "\n",
    "test_3 = profit_max(X = 180, Y = 420, P1 =  65,𝑃2= 55, H1 = 3, H2 = 2)\n",
    "test_3"
   ]
  },
  {
   "cell_type": "markdown",
   "metadata": {},
   "source": [
    "### Create unit tests for later:"
   ]
  },
  {
   "cell_type": "code",
   "execution_count": null,
   "metadata": {},
   "outputs": [],
   "source": [
    "import unittest\n",
    "from Axiom_Energy_Application_Test.py import profit_max\n",
    "\n",
    "class TestMaxProfit(unittest.TestCase):\n",
    "\n",
    "    def test_1(self):\n",
    "\n",
    "        test_1_profit = profit_max(X = 240, Y = 320, P1 =  40, 𝑃2= 30, H1 = 2, H2 = 1)\n",
    "        self.AssertEqual(test_1_profit[0], 80.0)\n",
    "        self.AssertEqual(test_1_profit[1], 160.0)\n",
    "        self.AssertEqual(test_1_profit[2], 8000.0)\n",
    "        print('Test 1 Acres of Corn: ' + str(test_1_profit[0]))\n",
    "        print('Test 1 Acres of Oats: ' + str(test_1_profit[1]))\n",
    "        print('Test 1 Profit: ' + str(test_1_profit[2]))\n",
    "\n",
    "    # Test values from part b:\n",
    "    def test_2(self):\n",
    "\n",
    "        test_2_profit = profit_max(X = 300, Y = 380, P1 =  70, 𝑃2= 45, H1 = 3, H2 = 1)\n",
    "        self.AssertEqual(test_2_profit[0], 40.0)\n",
    "        self.AssertEqual(test_2_profit[1], 260.0)\n",
    "        self.AssertEqual(test_2_profit[2], 14500.0)\n",
    "        print('Test 2 Acres of Corn: ' + str(test_2_profit[0]))\n",
    "        print('Test 2 Acres of Oats: ' + str(test_2_profit[1]))\n",
    "        print('Test 2 Profit: ' + str(test_2_profit[2]))\n",
    "\n",
    "    # Test values from part c:    \n",
    "    def test_3(self):\n",
    "\n",
    "        test_3_profit = profit_max(X = 180, Y = 420, P1 =  65, 𝑃2= 55, H1 = 3, H2 = 2)\n",
    "        self.AssertEqual(test_3_profit[0], 60.0)\n",
    "        self.AssertEqual(test_3_profit[1], 120.0)\n",
    "        self.AssertEqual(test_3_profit[2], 10500.0)\n",
    "        print('Test 3 Acres of Corn: ' + str(test_3_profit[0]))\n",
    "        print('Test 3 Acres of Oats: ' + str(test_3_profit[1]))\n",
    "        print('Test 3 Profit: ' + str(test_3_profit[2]))\n",
    "\n",
    "    \n",
    "if __name__ == '__main__':\n",
    "    unittest.main()"
   ]
  },
  {
   "cell_type": "markdown",
   "metadata": {},
   "source": [
    "# 3) Given the differential equation f'(x) = x^x:\n",
    "### - Write a function that uses Euler's method to approximate the value of f(x1),\n",
    "### given an initial condition (x0, f(x0)) and the value of x1."
   ]
  },
  {
   "cell_type": "code",
   "execution_count": 50,
   "metadata": {},
   "outputs": [],
   "source": [
    "### Solve ODE:\n",
    "\n",
    "# NOTE:\n",
    "# - This won't work with x[i] s.t. i -> infinity.\n",
    "\n",
    "def eulers_formula(x0, x1, f_x0, h):\n",
    "    \n",
    "    # Formula:\n",
    "    f_x1 = f_x0 + h * (x0^x0)\n",
    "    # Return both values as (x,y) point:\n",
    "    return x1, f_x1"
   ]
  },
  {
   "cell_type": "code",
   "execution_count": 54,
   "metadata": {},
   "outputs": [
    {
     "data": {
      "text/plain": [
       "(4, 8.0)"
      ]
     },
     "execution_count": 54,
     "metadata": {},
     "output_type": "execute_result"
    }
   ],
   "source": [
    "### Test ODE:\n",
    "\n",
    "# Say: x0 = 2, x1 = 20, f_x0 = 10, h = 0.25\n",
    "\n",
    "eulers_formula(x0 = 1, x1 = 4, f_x0 = 8, h = 0.25)"
   ]
  },
  {
   "cell_type": "code",
   "execution_count": null,
   "metadata": {},
   "outputs": [],
   "source": [
    "### Include in test:\n",
    "\n",
    "def test_eulers_formula(self):\n",
    "    \n",
    "    test_ef = eulers_formula(x0 = 1, x1 = 4, f_x0 = 8, h = 0.25)\n",
    "    self.assert(test_ef[1], 8.0)\n",
    "    print('The approximate value of f(x1) given x1 = 4 is: ' + str(test_ef[1]))"
   ]
  }
 ],
 "metadata": {
  "kernelspec": {
   "display_name": "Python 3",
   "language": "python",
   "name": "python3"
  },
  "language_info": {
   "codemirror_mode": {
    "name": "ipython",
    "version": 3
   },
   "file_extension": ".py",
   "mimetype": "text/x-python",
   "name": "python",
   "nbconvert_exporter": "python",
   "pygments_lexer": "ipython3",
   "version": "3.7.3"
  }
 },
 "nbformat": 4,
 "nbformat_minor": 2
}
